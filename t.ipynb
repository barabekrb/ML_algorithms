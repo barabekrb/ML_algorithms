{
 "cells": [
  {
   "cell_type": "code",
   "execution_count": 8,
   "id": "36ab6ccf",
   "metadata": {},
   "outputs": [],
   "source": [
    "import numpy as np\n",
    "import pandas as pd \n",
    "import sklearn.datasets as skl\n",
    "from DecisionTreeModels.ClassificationTree import MyTreeClf"
   ]
  },
  {
   "cell_type": "code",
   "execution_count": 9,
   "id": "34792eaa",
   "metadata": {},
   "outputs": [],
   "source": [
    "df = pd.read_csv('banknote+authentication.zip', header=None)\n",
    "df.columns = ['variance', 'skewness', 'curtosis', 'entropy', 'target']\n",
    "X, y = df.iloc[:,:4], df['target']\n",
    "tr = MyTreeClf(15, 20, 30, 6)"
   ]
  },
  {
   "cell_type": "code",
   "execution_count": 11,
   "id": "8da24193",
   "metadata": {},
   "outputs": [],
   "source": [
    "tr.make_splits(X)"
   ]
  },
  {
   "cell_type": "code",
   "execution_count": 13,
   "id": "103ae482",
   "metadata": {},
   "outputs": [
    {
     "name": "stdout",
     "output_type": "stream",
     "text": [
      "variance -0.10864999999999903 0.36700733555350207\n"
     ]
    }
   ],
   "source": [
    "col, val, ig = tr.get_best_split(X, y)\n",
    "print(col, val, ig)\n",
    "x2, y2 = X[X[col]>val], y[X[col]>val]"
   ]
  },
  {
   "cell_type": "code",
   "execution_count": null,
   "id": "97208fd4",
   "metadata": {},
   "outputs": [
    {
     "name": "stdout",
     "output_type": "stream",
     "text": [
      "variance 2.2025000000000006 0.17037151581533277\n"
     ]
    }
   ],
   "source": [
    "tr.fit(x2, y2)\n",
    "tr.print_tree()"
   ]
  },
  {
   "cell_type": "code",
   "execution_count": null,
   "id": "ffcc41b0",
   "metadata": {},
   "outputs": [],
   "source": []
  },
  {
   "cell_type": "code",
   "execution_count": null,
   "id": "f4627230",
   "metadata": {},
   "outputs": [],
   "source": []
  },
  {
   "cell_type": "code",
   "execution_count": 145,
   "id": "1813040a",
   "metadata": {},
   "outputs": [],
   "source": [
    "X, y = skl.make_classification(n_samples=150, n_features=5, n_informative=3, random_state=42)\n",
    "X = pd.DataFrame(X).round(2)\n",
    "y = pd.Series(y)\n",
    "X.columns = [f'col_{col}' for col in X.columns]\n"
   ]
  },
  {
   "cell_type": "code",
   "execution_count": 146,
   "id": "a7de748a",
   "metadata": {},
   "outputs": [],
   "source": [
    "df = pd.DataFrame({'A': [1, 2,3,4,5], 'B': [3,4,5,6,7]})\n"
   ]
  },
  {
   "cell_type": "code",
   "execution_count": null,
   "id": "e5a0f20d",
   "metadata": {},
   "outputs": [],
   "source": []
  },
  {
   "cell_type": "code",
   "execution_count": null,
   "id": "d396f4bf",
   "metadata": {},
   "outputs": [],
   "source": []
  }
 ],
 "metadata": {
  "kernelspec": {
   "display_name": "Python 3",
   "language": "python",
   "name": "python3"
  },
  "language_info": {
   "codemirror_mode": {
    "name": "ipython",
    "version": 3
   },
   "file_extension": ".py",
   "mimetype": "text/x-python",
   "name": "python",
   "nbconvert_exporter": "python",
   "pygments_lexer": "ipython3",
   "version": "3.12.6"
  }
 },
 "nbformat": 4,
 "nbformat_minor": 5
}
