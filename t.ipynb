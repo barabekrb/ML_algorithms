{
 "cells": [
  {
   "cell_type": "code",
   "execution_count": 8,
   "id": "36ab6ccf",
   "metadata": {},
   "outputs": [],
   "source": [
    "import numpy as np\n",
    "import pandas as pd \n",
    "import sklearn.datasets as skl\n",
    "from DecisionTreeModels.ClassificationTree import MyTreeClf"
   ]
  },
  {
   "cell_type": "code",
   "execution_count": 42,
   "id": "1813040a",
   "metadata": {},
   "outputs": [],
   "source": [
    "X, y = skl.make_classification(n_samples=150, n_features=5, n_informative=3, random_state=42)\n",
    "X = pd.DataFrame(X).round(2)\n",
    "y = pd.Series(y)\n",
    "X.columns = [f'col_{col}' for col in X.columns]\n"
   ]
  },
  {
   "cell_type": "code",
   "execution_count": 43,
   "id": "f99c0393",
   "metadata": {},
   "outputs": [],
   "source": [
    "trr = MyTreeClf(5, 5, 10)"
   ]
  },
  {
   "cell_type": "code",
   "execution_count": 36,
   "id": "49aaee79",
   "metadata": {},
   "outputs": [
    {
     "name": "stdout",
     "output_type": "stream",
     "text": [
      "65\n",
      "85\n"
     ]
    }
   ],
   "source": [
    "print(len(X[X[\"col_0\"] > -0.1]))\n",
    "print(len(X[X[\"col_0\"] <= -0.1]))\n"
   ]
  },
  {
   "cell_type": "code",
   "execution_count": 44,
   "id": "1a7e257c",
   "metadata": {},
   "outputs": [],
   "source": [
    "X_c, y_c = X, y\n",
    "col, val, ig = trr.get_best_split(X, y)\n"
   ]
  },
  {
   "cell_type": "code",
   "execution_count": 39,
   "id": "ce80de79",
   "metadata": {},
   "outputs": [
    {
     "name": "stdout",
     "output_type": "stream",
     "text": [
      "85 65\n"
     ]
    }
   ],
   "source": [
    "X_1, y_1 = X[X[col]<=val], y[X[col]<=val]\n",
    "X_2, y_2 =  X[X[col]>val], y[X[col]>val]\n",
    "print(len(X_1), len(X_2))"
   ]
  },
  {
   "cell_type": "code",
   "execution_count": 49,
   "id": "b744d7c7",
   "metadata": {},
   "outputs": [
    {
     "name": "stdout",
     "output_type": "stream",
     "text": [
      "col_3 1.51 0.31935364060569665\n"
     ]
    }
   ],
   "source": [
    "col, val, ig = trr.get_best_split(X_1, y_1)\n",
    "print(col, val, ig)"
   ]
  },
  {
   "cell_type": "code",
   "execution_count": 50,
   "id": "cc6ea813",
   "metadata": {},
   "outputs": [
    {
     "name": "stdout",
     "output_type": "stream",
     "text": [
      "55 30\n",
      "[1] [0 1]\n"
     ]
    }
   ],
   "source": [
    "X_11, y_11 = X_1[X_1[col]<=val], y_1[X_1[col]<=val]\n",
    "X_12, y_12 =  X_1[X_1[col]>val], y_1[X_1[col]>val]\n",
    "print(len(X_11), len(X_12))\n",
    "print(y_11.unique(), y_12.unique())"
   ]
  },
  {
   "cell_type": "code",
   "execution_count": null,
   "id": "c07fee90",
   "metadata": {},
   "outputs": [
    {
     "name": "stdout",
     "output_type": "stream",
     "text": [
      "col_3 1.66 0.3912435636302557\n"
     ]
    }
   ],
   "source": [
    "col, val, ig = trr.get_best_split(X_12, y_12)\n",
    "print(col, val, ig)"
   ]
  }
 ],
 "metadata": {
  "kernelspec": {
   "display_name": "Python 3",
   "language": "python",
   "name": "python3"
  },
  "language_info": {
   "codemirror_mode": {
    "name": "ipython",
    "version": 3
   },
   "file_extension": ".py",
   "mimetype": "text/x-python",
   "name": "python",
   "nbconvert_exporter": "python",
   "pygments_lexer": "ipython3",
   "version": "3.12.6"
  }
 },
 "nbformat": 4,
 "nbformat_minor": 5
}
